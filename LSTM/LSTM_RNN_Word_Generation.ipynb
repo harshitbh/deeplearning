{
 "cells": [
  {
   "cell_type": "code",
   "execution_count": 77,
   "metadata": {},
   "outputs": [],
   "source": [
    "from __future__ import print_function\n",
    "from keras.callbacks import LambdaCallback\n",
    "from keras.models import Sequential\n",
    "from keras.layers import Dense\n",
    "from keras.layers import LSTM\n",
    "from keras.optimizers import RMSprop\n",
    "from keras.utils.data_utils import get_file\n",
    "import numpy as np\n",
    "import random\n",
    "import sys\n",
    "import io"
   ]
  },
  {
   "cell_type": "code",
   "execution_count": 78,
   "metadata": {},
   "outputs": [
    {
     "name": "stdout",
     "output_type": "stream",
     "text": [
      "corpus length: 7926\n"
     ]
    }
   ],
   "source": [
    "with io.open('F:/deep learning/deeplearning/LSTM/data/sherlockhomes.txt', encoding='utf-8') as f:\n",
    "    text = f.read().lower()\n",
    "print('corpus length:', len(text))"
   ]
  },
  {
   "cell_type": "code",
   "execution_count": 79,
   "metadata": {},
   "outputs": [
    {
     "name": "stdout",
     "output_type": "stream",
     "text": [
      "total chars: 50\n"
     ]
    }
   ],
   "source": [
    "chars = sorted(list(set(text)))\n",
    "print('total chars:', len(chars))\n",
    "char_indices = dict((c, i) for i, c in enumerate(chars))\n",
    "indices_char = dict((i, c) for i, c in enumerate(chars))"
   ]
  },
  {
   "cell_type": "code",
   "execution_count": 80,
   "metadata": {},
   "outputs": [
    {
     "name": "stdout",
     "output_type": "stream",
     "text": [
      "nb sequences: 2629\n"
     ]
    }
   ],
   "source": [
    "# cut the text in semi-redundant sequences of maxlen characters\n",
    "maxlen = 40\n",
    "step = 3\n",
    "sentences = []\n",
    "next_chars = []\n",
    "for i in range(0, len(text) - maxlen, step):\n",
    "    sentences.append(text[i: i + maxlen])\n",
    "    next_chars.append(text[i + maxlen])\n",
    "print('nb sequences:', len(sentences))"
   ]
  },
  {
   "cell_type": "code",
   "execution_count": 81,
   "metadata": {},
   "outputs": [
    {
     "name": "stdout",
     "output_type": "stream",
     "text": [
      "Vectorization...\n"
     ]
    }
   ],
   "source": [
    "print('Vectorization...')\n",
    "x = np.zeros((len(sentences), maxlen, len(chars)), dtype=np.bool)\n",
    "y = np.zeros((len(sentences), len(chars)), dtype=np.bool)\n",
    "for i, sentence in enumerate(sentences):\n",
    "    for t, char in enumerate(sentence):\n",
    "        x[i, t, char_indices[char]] = 1\n",
    "    y[i, char_indices[next_chars[i]]] = 1"
   ]
  },
  {
   "cell_type": "code",
   "execution_count": 82,
   "metadata": {},
   "outputs": [
    {
     "name": "stdout",
     "output_type": "stream",
     "text": [
      "Build model...\n"
     ]
    }
   ],
   "source": [
    "# build the model: a single LSTM\n",
    "print('Build model...')\n",
    "model = Sequential()\n",
    "model.add(LSTM(128, input_shape=(maxlen, len(chars))))\n",
    "model.add(Dense(len(chars), activation='softmax'))\n",
    "\n",
    "optimizer = RMSprop(lr=0.01)\n",
    "model.compile(loss='categorical_crossentropy', optimizer=optimizer)"
   ]
  },
  {
   "cell_type": "code",
   "execution_count": 83,
   "metadata": {},
   "outputs": [],
   "source": [
    "def sample(preds, temperature=1.0):\n",
    "    # helper function to sample an index from a probability array\n",
    "    preds = np.asarray(preds).astype('float64')\n",
    "    preds = np.log(preds) / temperature\n",
    "    exp_preds = np.exp(preds)\n",
    "    preds = exp_preds / np.sum(exp_preds)\n",
    "    probas = np.random.multinomial(1, preds, 1)\n",
    "    return np.argmax(probas)"
   ]
  },
  {
   "cell_type": "code",
   "execution_count": 84,
   "metadata": {},
   "outputs": [],
   "source": [
    "def on_epoch_end(epoch, _):\n",
    "    # Function invoked at end of each epoch. Prints generated text.\n",
    "    print()\n",
    "    print('----- Generating text after Epoch: %d' % epoch)\n",
    "\n",
    "    start_index = random.randint(0, len(text) - maxlen - 1)\n",
    "    for diversity in [0.2, 0.5, 1.0, 1.2]:\n",
    "        print('----- diversity:', diversity)\n",
    "\n",
    "        generated = ''\n",
    "        sentence = text[start_index: start_index + maxlen]\n",
    "        generated += sentence\n",
    "        print('----- Generating with seed: \"' + sentence + '\"')\n",
    "        sys.stdout.write(generated)\n",
    "\n",
    "        for i in range(400):\n",
    "            x_pred = np.zeros((1, maxlen, len(chars)))\n",
    "            for t, char in enumerate(sentence):\n",
    "                x_pred[0, t, char_indices[char]] = 1.\n",
    "\n",
    "            preds = model.predict(x_pred, verbose=0)[0]\n",
    "            next_index = sample(preds, diversity)\n",
    "            next_char = indices_char[next_index]\n",
    "\n",
    "            generated += next_char\n",
    "            sentence = sentence[1:] + next_char\n",
    "\n",
    "            sys.stdout.write(next_char)\n",
    "            sys.stdout.flush()\n",
    "        print()"
   ]
  },
  {
   "cell_type": "code",
   "execution_count": null,
   "metadata": {},
   "outputs": [
    {
     "name": "stdout",
     "output_type": "stream",
     "text": [
      "Epoch 1/60\n",
      "2629/2629 [==============================] - 3316s 1s/step - loss: 3.2591\n",
      "\n",
      "----- Generating text after Epoch: 0\n",
      "----- diversity: 0.2\n",
      "----- Generating with seed: \"hting a cigarette, and throwing\n",
      "himself \"\n",
      "hting a cigarette, and throwing\n",
      "himself ttttttttttttttettettttttt ttttt tettttttttttett tetttttttttetttt sttttttttttttt tttttetttttttttttetttttetttttttttestttettttttttetttttttttettttst ttt tettttttttettttttttttetetttettttettttttttttttettt t ettstttttttttttttttttttttt testettsettttttttettettttttettttttteeetttteeeettttettettteetetttttetsttttetttetttt ttttettttttttttttttttetts tetettetttte tttttttttttttttetettttteetttttttetttttttttetttttee\n",
      "----- diversity: 0.5\n",
      "----- Generating with seed: \"hting a cigarette, and throwing\n",
      "himself \"\n",
      "hting a cigarette, and throwing\n",
      "himself tetts dtt otttttttettestt t utdtttteedet l destttthe tuotetttettteestdtttetetltsest s t dteue rt\n",
      "ttesestettttrhethtt ttt t eatt rtstett et etttthet  teed  tthutststhesttttrttthettsstbt ktted  ttet\n",
      "hd s a t ttt stttttee totsehdtttltedtutttytrtuktettttttttt these etteetttatte etttmtttettd tlttteestettttset t tt ttestettettttattte\n",
      "eeees utt tetsttait.teeteeltttt tetttesttsttay ate lt atetttet,teetr  \n",
      "----- diversity: 1.0\n",
      "----- Generating with seed: \"hting a cigarette, and throwing\n",
      "himself \"\n",
      "hting a cigarette, and throwing\n",
      "himself uhae itatt.ptra estesa ehehr w\n",
      "eeessteldtlat  \n",
      "ss.esytantleudstnts.d ettt nst c\n",
      "ys ttr1ttttr   d deheys totifdttb azr,gdktte ad \n",
      "kagktytme ubse.tsskhwh d ttt\n",
      "sats sthsktous thufi gsa.dtm ag,t e:teviyegu  d at\n",
      "ohehtat\n",
      "alclvy\n",
      "aeteeoeeuftssuatlethtltsehs.as   rstbule\n",
      "tesihdti aem2ttsactt  vapsaegiset,edotdve\n",
      "te\n",
      ". tehttlleertaetcsenhe freaehf ol t tptltlheh0s fomtsrsstastet,u taiotuatatvs\n",
      "teo.estcn ec\n",
      "----- diversity: 1.2\n",
      "----- Generating with seed: \"hting a cigarette, and throwing\n",
      "himself \"\n",
      "hting a cigarette, and throwing\n",
      "himself taordthc.v \"t r\n",
      "ph8kletsftlydca"
     ]
    }
   ],
   "source": [
    "print_callback = LambdaCallback(on_epoch_end=on_epoch_end)\n",
    "\n",
    "model.fit(x, y,\n",
    "          batch_size=128,\n",
    "          epochs=60,\n",
    "          callbacks=[print_callback])"
   ]
  }
 ],
 "metadata": {
  "kernelspec": {
   "display_name": "Python 3",
   "language": "python",
   "name": "python3"
  },
  "language_info": {
   "codemirror_mode": {
    "name": "ipython",
    "version": 3
   },
   "file_extension": ".py",
   "mimetype": "text/x-python",
   "name": "python",
   "nbconvert_exporter": "python",
   "pygments_lexer": "ipython3",
   "version": "3.6.5"
  }
 },
 "nbformat": 4,
 "nbformat_minor": 2
}
